{
 "cells": [
  {
   "cell_type": "code",
   "execution_count": 1,
   "metadata": {},
   "outputs": [],
   "source": [
    "MAIN_DIR = \"C:\\\\Users\\\\gyujang95\\\\Desktop\\\\Marat\\\\FIPGraph\""
   ]
  },
  {
   "cell_type": "markdown",
   "metadata": {},
   "source": [
    "### textures, indices to be processed"
   ]
  },
  {
   "cell_type": "code",
   "execution_count": 2,
   "metadata": {},
   "outputs": [],
   "source": [
    "textures = {\n",
    "    '30': {'sve_indices': list(range(200))},\n",
    "}"
   ]
  },
  {
   "cell_type": "markdown",
   "metadata": {},
   "source": [
    "# preprocessing"
   ]
  },
  {
   "cell_type": "markdown",
   "metadata": {},
   "source": [
    "### hdf5s to nx graphs"
   ]
  },
  {
   "cell_type": "code",
   "execution_count": 3,
   "metadata": {},
   "outputs": [],
   "source": [
    "from utils_preprocessing import write_nx_graph\n",
    "\n",
    "for texture, info in textures.items():\n",
    "    \n",
    "    sve_indices = info['sve_indices']\n",
    "\n",
    "    for ith_sve in sve_indices:\n",
    "        write_nx_graph(f'{MAIN_DIR}\\\\preprocessing\\\\graph_sves', f'{MAIN_DIR}\\\\data\\\\hdf5s_SVE', texture, ith_sve)"
   ]
  },
  {
   "cell_type": "markdown",
   "metadata": {},
   "source": [
    "### fip hdf5s to csv files"
   ]
  },
  {
   "cell_type": "code",
   "execution_count": 4,
   "metadata": {},
   "outputs": [],
   "source": [
    "from utils_preprocessing import write_fip_table\n",
    "\n",
    "for texture, info in textures.items():\n",
    "    \n",
    "    sve_indices = info['sve_indices']\n",
    "\n",
    "    for ith_sve in sve_indices:\n",
    "        write_fip_table(f'{MAIN_DIR}\\\\preprocessing\\\\fiptables\\\\{texture}', f'{MAIN_DIR}\\\\data\\\\hdf5s_FIP', texture, ith_sve)"
   ]
  },
  {
   "cell_type": "markdown",
   "metadata": {},
   "source": [
    "### Make scalers"
   ]
  },
  {
   "cell_type": "code",
   "execution_count": 5,
   "metadata": {},
   "outputs": [],
   "source": [
    "from utils_preprocessing import make_scaler\n",
    "\n",
    "for texture in textures:\n",
    "    make_scaler(scaler_dir=f'{MAIN_DIR}\\\\preprocessing\\\\scalers',\n",
    "                graph_dir=f'{MAIN_DIR}\\\\preprocessing\\\\graph_sves', \n",
    "                fip_dir=f'{MAIN_DIR}\\\\preprocessing\\\\FIPtables', \n",
    "                texture=texture, \n",
    "                num_nfeat=17, \n",
    "                num_efeat=1)"
   ]
  },
  {
   "cell_type": "markdown",
   "metadata": {},
   "source": [
    "### Make train/validation data lists"
   ]
  },
  {
   "cell_type": "code",
   "execution_count": 6,
   "metadata": {},
   "outputs": [],
   "source": [
    "from utils_preprocessing import make_torchdataset\n",
    "\n",
    "for texture in textures:\n",
    "    make_torchdataset(torchdata_dir=f'{MAIN_DIR}\\\\preprocessing\\\\graph_torchdata', \n",
    "                      graph_dir=f'{MAIN_DIR}\\\\preprocessing\\\\graph_sves', \n",
    "                      fip_dir=f'{MAIN_DIR}\\\\preprocessing\\\\FIPtables',\n",
    "                      scaler_dir=f'{MAIN_DIR}\\\\preprocessing\\\\scalers', \n",
    "                      texture=texture, \n",
    "                      train_fraction=0.9, \n",
    "                      seed=42)"
   ]
  },
  {
   "cell_type": "code",
   "execution_count": null,
   "metadata": {},
   "outputs": [],
   "source": []
  }
 ],
 "metadata": {
  "kernelspec": {
   "display_name": "env_Marat_20231026_2",
   "language": "python",
   "name": "python3"
  },
  "language_info": {
   "codemirror_mode": {
    "name": "ipython",
    "version": 3
   },
   "file_extension": ".py",
   "mimetype": "text/x-python",
   "name": "python",
   "nbconvert_exporter": "python",
   "pygments_lexer": "ipython3",
   "version": "3.8.18"
  }
 },
 "nbformat": 4,
 "nbformat_minor": 2
}
