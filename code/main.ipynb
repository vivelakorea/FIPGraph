{
 "cells": [
  {
   "cell_type": "code",
   "execution_count": 1,
   "metadata": {},
   "outputs": [],
   "source": [
    "MAIN_DIR = \"C:\\\\Users\\\\gyujang95\\\\Desktop\\\\Marat\\\\FIPGraph\""
   ]
  },
  {
   "cell_type": "markdown",
   "metadata": {},
   "source": [
    "### textures, indices to be processed"
   ]
  },
  {
   "cell_type": "code",
   "execution_count": 2,
   "metadata": {},
   "outputs": [],
   "source": [
    "textures = {\n",
    "    '30': {'sve_indices': list(range(200))},\n",
    "}"
   ]
  },
  {
   "cell_type": "markdown",
   "metadata": {},
   "source": [
    "# preprocessing"
   ]
  },
  {
   "cell_type": "markdown",
   "metadata": {},
   "source": [
    "### hdf5s to nx graphs"
   ]
  },
  {
   "cell_type": "code",
   "execution_count": 3,
   "metadata": {},
   "outputs": [
    {
     "ename": "KeyboardInterrupt",
     "evalue": "",
     "output_type": "error",
     "traceback": [
      "\u001b[1;31m---------------------------------------------------------------------------\u001b[0m",
      "\u001b[1;31mKeyboardInterrupt\u001b[0m                         Traceback (most recent call last)",
      "\u001b[1;32mc:\\Users\\gyujang95\\Desktop\\Marat\\FIPGraph\\code\\main.ipynb Cell 6\u001b[0m line \u001b[0;36m8\n\u001b[0;32m      <a href='vscode-notebook-cell:/c%3A/Users/gyujang95/Desktop/Marat/FIPGraph/code/main.ipynb#X13sZmlsZQ%3D%3D?line=4'>5</a>\u001b[0m sve_indices \u001b[39m=\u001b[39m info[\u001b[39m'\u001b[39m\u001b[39msve_indices\u001b[39m\u001b[39m'\u001b[39m]\n\u001b[0;32m      <a href='vscode-notebook-cell:/c%3A/Users/gyujang95/Desktop/Marat/FIPGraph/code/main.ipynb#X13sZmlsZQ%3D%3D?line=6'>7</a>\u001b[0m \u001b[39mfor\u001b[39;00m ith_sve \u001b[39min\u001b[39;00m sve_indices:\n\u001b[1;32m----> <a href='vscode-notebook-cell:/c%3A/Users/gyujang95/Desktop/Marat/FIPGraph/code/main.ipynb#X13sZmlsZQ%3D%3D?line=7'>8</a>\u001b[0m     write_nx_graph(\u001b[39mf\u001b[39;49m\u001b[39m'\u001b[39;49m\u001b[39m{\u001b[39;49;00mMAIN_DIR\u001b[39m}\u001b[39;49;00m\u001b[39m\\\\\u001b[39;49;00m\u001b[39mpreprocessing\u001b[39;49m\u001b[39m\\\\\u001b[39;49;00m\u001b[39mgraph_sves\u001b[39;49m\u001b[39m'\u001b[39;49m, \u001b[39mf\u001b[39;49m\u001b[39m'\u001b[39;49m\u001b[39m{\u001b[39;49;00mMAIN_DIR\u001b[39m}\u001b[39;49;00m\u001b[39m\\\\\u001b[39;49;00m\u001b[39mdata\u001b[39;49m\u001b[39m\\\\\u001b[39;49;00m\u001b[39mhdf5s_SVE\u001b[39;49m\u001b[39m'\u001b[39;49m, texture, ith_sve)\n",
      "File \u001b[1;32mc:\\Users\\gyujang95\\Desktop\\Marat\\FIPGraph\\code\\utils_preprocessing.py:230\u001b[0m, in \u001b[0;36mwrite_nx_graph\u001b[1;34m(graph_dir, hdf5_dir, texture, ith_sve)\u001b[0m\n\u001b[0;32m    227\u001b[0m hdf5_fname \u001b[39m=\u001b[39m \u001b[39mf\u001b[39m\u001b[39m'\u001b[39m\u001b[39m{\u001b[39;00mhdf5_dir\u001b[39m}\u001b[39;00m\u001b[39m\\\\\u001b[39;00m\u001b[39m{\u001b[39;00mtexture\u001b[39m}\u001b[39;00m\u001b[39m\\\\\u001b[39;00m\u001b[39mOutput_FakeMatl_\u001b[39m\u001b[39m{\u001b[39;00mith_sve\u001b[39m}\u001b[39;00m\u001b[39m.dream3d\u001b[39m\u001b[39m'\u001b[39m\n\u001b[0;32m    229\u001b[0m grain_ids, grain_oris \u001b[39m=\u001b[39m __get_grains(hdf5_fname)\n\u001b[1;32m--> 230\u001b[0m nbr_dict \u001b[39m=\u001b[39m __get_nbrs(grain_ids, periodic\u001b[39m=\u001b[39;49m\u001b[39mTrue\u001b[39;49;00m)\n\u001b[0;32m    232\u001b[0m G \u001b[39m=\u001b[39m nx\u001b[39m.\u001b[39mGraph()\n\u001b[0;32m    234\u001b[0m \u001b[39mfor\u001b[39;00m feat, ori \u001b[39min\u001b[39;00m \u001b[39menumerate\u001b[39m(grain_oris):\n",
      "File \u001b[1;32mc:\\Users\\gyujang95\\Desktop\\Marat\\FIPGraph\\code\\utils_preprocessing.py:82\u001b[0m, in \u001b[0;36m__get_nbrs\u001b[1;34m(micro, periodic)\u001b[0m\n\u001b[0;32m     79\u001b[0m                     \u001b[39mfor\u001b[39;00m nbr \u001b[39min\u001b[39;00m nbrs:\n\u001b[0;32m     80\u001b[0m                         nbr_list\u001b[39m.\u001b[39mappend(nbr)\n\u001b[1;32m---> 82\u001b[0m     nbrs, counts \u001b[39m=\u001b[39m np\u001b[39m.\u001b[39;49munique(np\u001b[39m.\u001b[39;49masarray(nbr_list), return_counts\u001b[39m=\u001b[39;49m\u001b[39mTrue\u001b[39;49;00m)\n\u001b[0;32m     83\u001b[0m     nbr_dict[feat] \u001b[39m=\u001b[39m [nbrs\u001b[39m.\u001b[39mastype(\u001b[39mint\u001b[39m), counts]\n\u001b[0;32m     84\u001b[0m \u001b[39mreturn\u001b[39;00m nbr_dict\n",
      "File \u001b[1;32m<__array_function__ internals>:200\u001b[0m, in \u001b[0;36munique\u001b[1;34m(*args, **kwargs)\u001b[0m\n",
      "File \u001b[1;32mc:\\Users\\gyujang95\\AppData\\Local\\anaconda3\\envs\\env_Marat_20231026_2\\lib\\site-packages\\numpy\\lib\\arraysetops.py:274\u001b[0m, in \u001b[0;36munique\u001b[1;34m(ar, return_index, return_inverse, return_counts, axis, equal_nan)\u001b[0m\n\u001b[0;32m    272\u001b[0m ar \u001b[39m=\u001b[39m np\u001b[39m.\u001b[39masanyarray(ar)\n\u001b[0;32m    273\u001b[0m \u001b[39mif\u001b[39;00m axis \u001b[39mis\u001b[39;00m \u001b[39mNone\u001b[39;00m:\n\u001b[1;32m--> 274\u001b[0m     ret \u001b[39m=\u001b[39m _unique1d(ar, return_index, return_inverse, return_counts, \n\u001b[0;32m    275\u001b[0m                     equal_nan\u001b[39m=\u001b[39;49mequal_nan)\n\u001b[0;32m    276\u001b[0m     \u001b[39mreturn\u001b[39;00m _unpack_tuple(ret)\n\u001b[0;32m    278\u001b[0m \u001b[39m# axis was specified and not None\u001b[39;00m\n",
      "File \u001b[1;32mc:\\Users\\gyujang95\\AppData\\Local\\anaconda3\\envs\\env_Marat_20231026_2\\lib\\site-packages\\numpy\\lib\\arraysetops.py:336\u001b[0m, in \u001b[0;36m_unique1d\u001b[1;34m(ar, return_index, return_inverse, return_counts, equal_nan)\u001b[0m\n\u001b[0;32m    334\u001b[0m     aux \u001b[39m=\u001b[39m ar[perm]\n\u001b[0;32m    335\u001b[0m \u001b[39melse\u001b[39;00m:\n\u001b[1;32m--> 336\u001b[0m     ar\u001b[39m.\u001b[39;49msort()\n\u001b[0;32m    337\u001b[0m     aux \u001b[39m=\u001b[39m ar\n\u001b[0;32m    338\u001b[0m mask \u001b[39m=\u001b[39m np\u001b[39m.\u001b[39mempty(aux\u001b[39m.\u001b[39mshape, dtype\u001b[39m=\u001b[39mnp\u001b[39m.\u001b[39mbool_)\n",
      "\u001b[1;31mKeyboardInterrupt\u001b[0m: "
     ]
    }
   ],
   "source": [
    "from utils_preprocessing import write_nx_graph\n",
    "\n",
    "for texture, info in textures.items():\n",
    "    \n",
    "    sve_indices = info['sve_indices']\n",
    "\n",
    "    for ith_sve in sve_indices:\n",
    "        write_nx_graph(f'{MAIN_DIR}\\\\preprocessing\\\\graph_sves', f'{MAIN_DIR}\\\\data\\\\hdf5s_SVE', texture, ith_sve)"
   ]
  },
  {
   "cell_type": "markdown",
   "metadata": {},
   "source": [
    "### fip hdf5s to csv files"
   ]
  },
  {
   "cell_type": "code",
   "execution_count": null,
   "metadata": {},
   "outputs": [],
   "source": [
    "from utils_preprocessing import write_fip_table\n",
    "\n",
    "for texture, info in textures.items():\n",
    "    \n",
    "    sve_indices = info['sve_indices']\n",
    "\n",
    "    for ith_sve in sve_indices:\n",
    "        write_fip_table(f'{MAIN_DIR}\\\\preprocessing\\\\fiptables\\\\{texture}', f'{MAIN_DIR}\\\\data\\\\hdf5s_FIP', texture, ith_sve)"
   ]
  },
  {
   "cell_type": "markdown",
   "metadata": {},
   "source": [
    "### Make scalers"
   ]
  },
  {
   "cell_type": "code",
   "execution_count": null,
   "metadata": {},
   "outputs": [
    {
     "name": "stderr",
     "output_type": "stream",
     "text": [
      "c:\\Users\\gyujang95\\AppData\\Local\\anaconda3\\envs\\env_Marat_20231026_2\\lib\\site-packages\\torch_geometric\\utils\\convert.py:260: UserWarning: Creating a tensor from a list of numpy.ndarrays is extremely slow. Please consider converting the list to a single numpy.ndarray with numpy.array() before converting to a tensor. (Triggered internally at C:\\cb\\pytorch_1000000000000\\work\\torch\\csrc\\utils\\tensor_new.cpp:264.)\n",
      "  data[key] = torch.tensor(value)\n"
     ]
    }
   ],
   "source": [
    "from utils_preprocessing import make_scaler\n",
    "\n",
    "for texture in textures:\n",
    "    make_scaler(scaler_dir=f'{MAIN_DIR}\\\\preprocessing\\\\scalers',\n",
    "                graph_dir=f'{MAIN_DIR}\\\\preprocessing\\\\graph_sves', \n",
    "                fip_dir=f'{MAIN_DIR}\\\\preprocessing\\\\FIPtables', \n",
    "                texture=texture, \n",
    "                num_nfeat=17, \n",
    "                num_efeat=1)"
   ]
  },
  {
   "cell_type": "markdown",
   "metadata": {},
   "source": [
    "### Make train/validation data lists"
   ]
  },
  {
   "cell_type": "code",
   "execution_count": null,
   "metadata": {},
   "outputs": [
    {
     "ename": "ImportError",
     "evalue": "cannot import name 'make_torchdataset' from 'utils_preprocessing' (c:\\Users\\gyujang95\\Desktop\\Marat\\FIPGraph\\code\\utils_preprocessing.py)",
     "output_type": "error",
     "traceback": [
      "\u001b[1;31m---------------------------------------------------------------------------\u001b[0m",
      "\u001b[1;31mImportError\u001b[0m                               Traceback (most recent call last)",
      "\u001b[1;32mc:\\Users\\gyujang95\\Desktop\\Marat\\FIPGraph\\code\\main.ipynb Cell 12\u001b[0m line \u001b[0;36m1\n\u001b[1;32m----> <a href='vscode-notebook-cell:/c%3A/Users/gyujang95/Desktop/Marat/FIPGraph/code/main.ipynb#X33sZmlsZQ%3D%3D?line=0'>1</a>\u001b[0m \u001b[39mfrom\u001b[39;00m \u001b[39mutils_preprocessing\u001b[39;00m \u001b[39mimport\u001b[39;00m make_torchdataset\n\u001b[0;32m      <a href='vscode-notebook-cell:/c%3A/Users/gyujang95/Desktop/Marat/FIPGraph/code/main.ipynb#X33sZmlsZQ%3D%3D?line=2'>3</a>\u001b[0m \u001b[39mfor\u001b[39;00m texture \u001b[39min\u001b[39;00m textures:\n\u001b[0;32m      <a href='vscode-notebook-cell:/c%3A/Users/gyujang95/Desktop/Marat/FIPGraph/code/main.ipynb#X33sZmlsZQ%3D%3D?line=3'>4</a>\u001b[0m     make_torchdataset(torchdata_dir\u001b[39m=\u001b[39m\u001b[39mf\u001b[39m\u001b[39m'\u001b[39m\u001b[39m{\u001b[39;00mMAIN_DIR\u001b[39m}\u001b[39;00m\u001b[39m\\\\\u001b[39;00m\u001b[39mpreprocessing\u001b[39m\u001b[39m\\\\\u001b[39;00m\u001b[39mgraph_torchdata\u001b[39m\u001b[39m'\u001b[39m, \n\u001b[0;32m      <a href='vscode-notebook-cell:/c%3A/Users/gyujang95/Desktop/Marat/FIPGraph/code/main.ipynb#X33sZmlsZQ%3D%3D?line=4'>5</a>\u001b[0m                       graph_dir\u001b[39m=\u001b[39m\u001b[39mf\u001b[39m\u001b[39m'\u001b[39m\u001b[39m{\u001b[39;00mMAIN_DIR\u001b[39m}\u001b[39;00m\u001b[39m\\\\\u001b[39;00m\u001b[39mpreprocessing\u001b[39m\u001b[39m\\\\\u001b[39;00m\u001b[39mgraph_sves\u001b[39m\u001b[39m'\u001b[39m, \n\u001b[0;32m      <a href='vscode-notebook-cell:/c%3A/Users/gyujang95/Desktop/Marat/FIPGraph/code/main.ipynb#X33sZmlsZQ%3D%3D?line=5'>6</a>\u001b[0m                       fip_dir\u001b[39m=\u001b[39m\u001b[39mf\u001b[39m\u001b[39m'\u001b[39m\u001b[39m{\u001b[39;00mMAIN_DIR\u001b[39m}\u001b[39;00m\u001b[39m\\\\\u001b[39;00m\u001b[39mpreprocessing\u001b[39m\u001b[39m\\\\\u001b[39;00m\u001b[39mFIPtables\u001b[39m\u001b[39m'\u001b[39m,\n\u001b[1;32m   (...)\u001b[0m\n\u001b[0;32m      <a href='vscode-notebook-cell:/c%3A/Users/gyujang95/Desktop/Marat/FIPGraph/code/main.ipynb#X33sZmlsZQ%3D%3D?line=8'>9</a>\u001b[0m                       train_fraction\u001b[39m=\u001b[39m\u001b[39m0.9\u001b[39m, \n\u001b[0;32m     <a href='vscode-notebook-cell:/c%3A/Users/gyujang95/Desktop/Marat/FIPGraph/code/main.ipynb#X33sZmlsZQ%3D%3D?line=9'>10</a>\u001b[0m                       seed\u001b[39m=\u001b[39m\u001b[39m42\u001b[39m)\n",
      "\u001b[1;31mImportError\u001b[0m: cannot import name 'make_torchdataset' from 'utils_preprocessing' (c:\\Users\\gyujang95\\Desktop\\Marat\\FIPGraph\\code\\utils_preprocessing.py)"
     ]
    }
   ],
   "source": [
    "from utils_preprocessing import make_torchdataset\n",
    "\n",
    "for texture in textures:\n",
    "    make_torchdataset(torchdata_dir=f'{MAIN_DIR}\\\\preprocessing\\\\graph_torchdata', \n",
    "                      graph_dir=f'{MAIN_DIR}\\\\preprocessing\\\\graph_sves', \n",
    "                      fip_dir=f'{MAIN_DIR}\\\\preprocessing\\\\FIPtables',\n",
    "                      scaler_dir=f'{MAIN_DIR}\\\\preprocessing\\\\scalers', \n",
    "                      texture=texture, \n",
    "                      train_fraction=0.9, \n",
    "                      seed=42)"
   ]
  },
  {
   "cell_type": "code",
   "execution_count": null,
   "metadata": {},
   "outputs": [],
   "source": []
  }
 ],
 "metadata": {
  "kernelspec": {
   "display_name": "env_Marat_20231026_2",
   "language": "python",
   "name": "python3"
  },
  "language_info": {
   "codemirror_mode": {
    "name": "ipython",
    "version": 3
   },
   "file_extension": ".py",
   "mimetype": "text/x-python",
   "name": "python",
   "nbconvert_exporter": "python",
   "pygments_lexer": "ipython3",
   "version": "3.8.18"
  }
 },
 "nbformat": 4,
 "nbformat_minor": 2
}
