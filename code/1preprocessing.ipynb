{
 "cells": [
  {
   "cell_type": "code",
   "execution_count": 3,
   "metadata": {},
   "outputs": [],
   "source": [
    "MAIN_DIR = \"C:\\\\Users\\\\Gyu-Jang Sim\\\\Documents\\\\FIPGraph\""
   ]
  },
  {
   "cell_type": "markdown",
   "metadata": {},
   "source": [
    "### textures, indices to be processed"
   ]
  },
  {
   "cell_type": "code",
   "execution_count": 5,
   "metadata": {},
   "outputs": [],
   "source": [
    "textures = {\n",
    "    '90': {'sve_indices': list(range(200))},\n",
    "    '160': {'sve_indices': list(range(100))},\n",
    "    # '200': {'sve_indices': list(range(4))},\n",
    "    # '250': {'sve_indices': list(range(2))}\n",
    "}"
   ]
  },
  {
   "cell_type": "markdown",
   "metadata": {},
   "source": [
    "# preprocessing"
   ]
  },
  {
   "cell_type": "markdown",
   "metadata": {},
   "source": [
    "### hdf5s to nx graphs"
   ]
  },
  {
   "cell_type": "code",
   "execution_count": 3,
   "metadata": {},
   "outputs": [],
   "source": [
    "#####################################################\n",
    "#### replaced by parallel_hdf5s_to_nx_graphs.py #####\n",
    "#####################################################\n",
    "\n",
    "# from utils_preprocessing import write_nx_graph\n",
    "# import multiprocessing\n",
    "\n",
    "# texture = '30'\n",
    "\n",
    "# def func(ith_sve):\n",
    "#     write_nx_graph(f'{MAIN_DIR}\\\\preprocessing\\\\graph_sves', f'{MAIN_DIR}\\\\data\\\\hdf5s_SVE', texture, ith_sve)\n",
    "\n",
    "# if __name__ == '__main__':\n",
    "\n",
    "#     info = textures[texture]\n",
    "#     sve_indices = info['sve_indices']\n",
    "\n",
    "#     # for ith_sve in sve_indices:\n",
    "#     #     write_nx_graph(f'{MAIN_DIR}\\\\preprocessing\\\\graph_sves', f'{MAIN_DIR}\\\\data\\\\hdf5s_SVE', texture, ith_sve)\n",
    "\n",
    "#     pool_obj = multiprocessing.Pool(61)\n",
    "    \n",
    "#     pool_obj.map(func, sve_indices)\n"
   ]
  },
  {
   "cell_type": "markdown",
   "metadata": {},
   "source": [
    "### fip hdf5s to csv files"
   ]
  },
  {
   "cell_type": "code",
   "execution_count": 5,
   "metadata": {},
   "outputs": [],
   "source": [
    "from utils_preprocessing import write_fip_table\n",
    "\n",
    "for texture, info in textures.items():\n",
    "    \n",
    "    sve_indices = info['sve_indices']\n",
    "\n",
    "    for ith_sve in sve_indices:\n",
    "        write_fip_table(f'{MAIN_DIR}\\\\preprocessing\\\\fiptables\\\\{texture}', f'{MAIN_DIR}\\\\data\\\\hdf5s_FIP', texture, ith_sve)"
   ]
  },
  {
   "cell_type": "markdown",
   "metadata": {},
   "source": [
    "### Make scalers"
   ]
  },
  {
   "cell_type": "code",
   "execution_count": 6,
   "metadata": {},
   "outputs": [],
   "source": [
    "from utils_preprocessing import make_scaler\n",
    "\n",
    "for texture in textures:\n",
    "    make_scaler(scaler_dir=f'{MAIN_DIR}\\\\preprocessing\\\\scalers',\n",
    "                graph_dir=f'{MAIN_DIR}\\\\preprocessing\\\\graph_sves', \n",
    "                fip_dir=f'{MAIN_DIR}\\\\preprocessing\\\\FIPtables', \n",
    "                texture=texture, \n",
    "                num_nfeat=38, \n",
    "                num_efeat=1)"
   ]
  },
  {
   "cell_type": "markdown",
   "metadata": {},
   "source": [
    "### Make train/validation data lists"
   ]
  },
  {
   "cell_type": "code",
   "execution_count": 9,
   "metadata": {},
   "outputs": [],
   "source": [
    "#####################################################\n",
    "#### replaced by make_mixed_torchdataset        #####\n",
    "#####################################################\n",
    "\n",
    "# from utils_preprocessing import make_torchdataset\n",
    "\n",
    "# for texture in textures:\n",
    "#     make_torchdataset(torchdata_dir=f'{MAIN_DIR}\\\\preprocessing\\\\graph_torchdata', \n",
    "#                       graph_dir=f'{MAIN_DIR}\\\\preprocessing\\\\graph_sves', \n",
    "#                       fip_dir=f'{MAIN_DIR}\\\\preprocessing\\\\FIPtables',\n",
    "#                       scaler_dir=f'{MAIN_DIR}\\\\preprocessing\\\\scalers', \n",
    "#                       texture=texture, \n",
    "#                       train_fraction=0.9, \n",
    "#                       seed=42)"
   ]
  },
  {
   "cell_type": "code",
   "execution_count": null,
   "metadata": {},
   "outputs": [],
   "source": []
  }
 ],
 "metadata": {
  "kernelspec": {
   "display_name": "env_Marat_20231026_2",
   "language": "python",
   "name": "python3"
  },
  "language_info": {
   "codemirror_mode": {
    "name": "ipython",
    "version": 3
   },
   "file_extension": ".py",
   "mimetype": "text/x-python",
   "name": "python",
   "nbconvert_exporter": "python",
   "pygments_lexer": "ipython3",
   "version": "3.8.18"
  }
 },
 "nbformat": 4,
 "nbformat_minor": 2
}
